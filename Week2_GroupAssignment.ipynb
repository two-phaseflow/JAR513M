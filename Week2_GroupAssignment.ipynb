{
  "nbformat": 4,
  "nbformat_minor": 0,
  "metadata": {
    "colab": {
      "provenance": [],
      "authorship_tag": "ABX9TyO7V0ECfah2tWsING/MkV0G",
      "include_colab_link": true
    },
    "kernelspec": {
      "name": "python3",
      "display_name": "Python 3"
    },
    "language_info": {
      "name": "python"
    }
  },
  "cells": [
    {
      "cell_type": "markdown",
      "metadata": {
        "id": "view-in-github",
        "colab_type": "text"
      },
      "source": [
        "<a href=\"https://colab.research.google.com/github/two-phaseflow/JAR513M/blob/main/Week2_GroupAssignment.ipynb\" target=\"_parent\"><img src=\"https://colab.research.google.com/assets/colab-badge.svg\" alt=\"Open In Colab\"/></a>"
      ]
    },
    {
      "cell_type": "markdown",
      "source": [
        "## **JAR513 Week 2 - Group Assignment**"
      ],
      "metadata": {
        "id": "eYv7c9Lq1luv"
      }
    },
    {
      "cell_type": "markdown",
      "source": [
        "Welcome to the Week 2 Group Assignment: “Geology, Reserves & Production Modeling.” This notebook guides you through data wrangling, plotting, and fitting simple logistic (Hubbert-style) curves to historical production data. You'll analyze fossil fuels and uranium, compare production trends, and reflect on how geology, efficiency, and policy intersect with resource dynamics."
      ],
      "metadata": {
        "id": "MlU30TGP122Q"
      }
    },
    {
      "cell_type": "markdown",
      "source": [
        "# An Introduction to Python\n",
        "\n"
      ],
      "metadata": {
        "id": "SSc5iKgrCr39"
      }
    },
    {
      "cell_type": "markdown",
      "source": [
        "Python is a programming language that is widely used in science and engineering because it is:\n",
        "*   Readable (the code looks a lot like English)\n",
        "*   Flexible (used for data analysis, modeling, machine learning, web apps, etc.)\n",
        "*   Open-source (free, with many libraries contributed by the scientific community)\n",
        "\n",
        "In this notebook, we'll mostly use Python as a data analysis and plotting tool.\n",
        "\n"
      ],
      "metadata": {
        "id": "g5XG9WslCvfW"
      }
    },
    {
      "cell_type": "markdown",
      "source": [
        "# Why import libraries?\n",
        "\n",
        "Python by itself is powerful, but to do specialized tasks (like plotting graphs or handling data tables) we use libraries.\n",
        "*   Think of libraries as \"toolboxes\" we can load into Python.\n",
        "*   Each toolbox contains functions we can use without reinventing them.\n",
        "\n",
        "For example:\n",
        "*   `pandas` -> tools for handling data tables (like Excel in Python)\n",
        "*   `numpy` -> numerical tools for arrays and math\n",
        "*   `matplotlib` -> tools for making plots and figures\n",
        "*   `scipy` -> scientific functions, like curve fitting\n"
      ],
      "metadata": {
        "id": "OpAWaNPoDaQB"
      }
    },
    {
      "cell_type": "markdown",
      "source": [
        "# Example"
      ],
      "metadata": {
        "id": "2h9NWgE2EBUj"
      }
    },
    {
      "cell_type": "code",
      "source": [
        "import pandas as pd # load the \"pandas\" toolbox, give it a short nickname 'pd'\n",
        "import numpy as np # numerical tools\n",
        "import matplotlib.pyplot as plt # plotting tools"
      ],
      "metadata": {
        "id": "0zoRsRG_-cWe"
      },
      "execution_count": 2,
      "outputs": []
    },
    {
      "cell_type": "markdown",
      "source": [
        "Now, instead of writing everything from scratch, we can call these ready-made functions. For example, `np.sqrt(9)` will give the square root of 9."
      ],
      "metadata": {
        "id": "H8BX_vn5EPar"
      }
    },
    {
      "cell_type": "markdown",
      "source": [
        "# Reading in data with `pandas`"
      ],
      "metadata": {
        "id": "J7OkaG8BdWFs"
      }
    },
    {
      "cell_type": "markdown",
      "source": [
        "Now we are ready to read in our dataset. In Google Colab, files don’t automatically “live” inside the notebook; we first need to upload them to the session. On the left-hand panel, click the folder icon (“Files”), then the upload button, and choose your CSV file (e.g., `unobtanium_production_data.csv`). Once uploaded, Colab will store the file temporarily for this session. If you close and reopen the notebook later, you’ll need to upload it again. Next we’ll use `pandas` to read our dataset into a **DataFrame** (a table, like in Excel, but inside Python)."
      ],
      "metadata": {
        "id": "JHKwAP7T-v4o"
      }
    },
    {
      "cell_type": "code",
      "source": [
        "df = pd.read_csv(\"unobtanium_production_data.csv\", skiprows=1)"
      ],
      "metadata": {
        "id": "9oG1uUCZ-1gj"
      },
      "execution_count": 3,
      "outputs": []
    },
    {
      "cell_type": "markdown",
      "source": [
        "*   `read_csv` is a function inside of the pandas library that reads a CSV (comma-seaparated values) file\n",
        "*   `\"unobtanium_production_data.csv\"`is the file name\n",
        "*   `skiprows=1` tells pandas to skip the very first row in the file, since that row contains background notes, not actual data.\n",
        "\n",
        "After loading, our data is stored in the variable `df`, which is a pandas DataFrame. To quickly check that the data imported correctly, we can take a quick look at the first five rows with:\n",
        "\n"
      ],
      "metadata": {
        "id": "j5AH7X9V_Np5"
      }
    },
    {
      "cell_type": "code",
      "source": [
        "df.head()"
      ],
      "metadata": {
        "id": "1u4zWz3K_kIr",
        "outputId": "3a9a94da-0d89-4b4a-8232-fa8ba2c963b8",
        "colab": {
          "base_uri": "https://localhost:8080/",
          "height": 235
        }
      },
      "execution_count": 4,
      "outputs": [
        {
          "output_type": "execute_result",
          "data": {
            "text/plain": [
              "      Country  1970  1971  1972  1973  1974  1975  1976  1977  1978  ...  \\\n",
              "0    Zentopia    13    15    18    23    26    33    40    42    49  ...   \n",
              "1    Fictonia    75   103   131   144   165   170   220   228   199  ...   \n",
              "2  Imaginaria    12    10    12    11    10    11    11    11    10  ...   \n",
              "3  Pseudoland   410   368   337   296   273   256   256   292   294  ...   \n",
              "4   Mythshire   174   170   204   188   199   228   211   213   232  ...   \n",
              "\n",
              "   2011  2012  2013  2014  2015  2016  2017  2018  2019  2020  \n",
              "0   133   125    96    91    78    65    52    46    40    32  \n",
              "1   253   255   249   218   184   178   172   134   121    95  \n",
              "2   142   149   148   149   167   196   203   211   222   241  \n",
              "3   179   186   195   182   194   198   172   167   150   131  \n",
              "4   421   462   495   513   487   535   549   502   482   485  \n",
              "\n",
              "[5 rows x 52 columns]"
            ],
            "text/html": [
              "\n",
              "  <div id=\"df-13e699ab-946a-4684-83ee-196739ef83e6\" class=\"colab-df-container\">\n",
              "    <div>\n",
              "<style scoped>\n",
              "    .dataframe tbody tr th:only-of-type {\n",
              "        vertical-align: middle;\n",
              "    }\n",
              "\n",
              "    .dataframe tbody tr th {\n",
              "        vertical-align: top;\n",
              "    }\n",
              "\n",
              "    .dataframe thead th {\n",
              "        text-align: right;\n",
              "    }\n",
              "</style>\n",
              "<table border=\"1\" class=\"dataframe\">\n",
              "  <thead>\n",
              "    <tr style=\"text-align: right;\">\n",
              "      <th></th>\n",
              "      <th>Country</th>\n",
              "      <th>1970</th>\n",
              "      <th>1971</th>\n",
              "      <th>1972</th>\n",
              "      <th>1973</th>\n",
              "      <th>1974</th>\n",
              "      <th>1975</th>\n",
              "      <th>1976</th>\n",
              "      <th>1977</th>\n",
              "      <th>1978</th>\n",
              "      <th>...</th>\n",
              "      <th>2011</th>\n",
              "      <th>2012</th>\n",
              "      <th>2013</th>\n",
              "      <th>2014</th>\n",
              "      <th>2015</th>\n",
              "      <th>2016</th>\n",
              "      <th>2017</th>\n",
              "      <th>2018</th>\n",
              "      <th>2019</th>\n",
              "      <th>2020</th>\n",
              "    </tr>\n",
              "  </thead>\n",
              "  <tbody>\n",
              "    <tr>\n",
              "      <th>0</th>\n",
              "      <td>Zentopia</td>\n",
              "      <td>13</td>\n",
              "      <td>15</td>\n",
              "      <td>18</td>\n",
              "      <td>23</td>\n",
              "      <td>26</td>\n",
              "      <td>33</td>\n",
              "      <td>40</td>\n",
              "      <td>42</td>\n",
              "      <td>49</td>\n",
              "      <td>...</td>\n",
              "      <td>133</td>\n",
              "      <td>125</td>\n",
              "      <td>96</td>\n",
              "      <td>91</td>\n",
              "      <td>78</td>\n",
              "      <td>65</td>\n",
              "      <td>52</td>\n",
              "      <td>46</td>\n",
              "      <td>40</td>\n",
              "      <td>32</td>\n",
              "    </tr>\n",
              "    <tr>\n",
              "      <th>1</th>\n",
              "      <td>Fictonia</td>\n",
              "      <td>75</td>\n",
              "      <td>103</td>\n",
              "      <td>131</td>\n",
              "      <td>144</td>\n",
              "      <td>165</td>\n",
              "      <td>170</td>\n",
              "      <td>220</td>\n",
              "      <td>228</td>\n",
              "      <td>199</td>\n",
              "      <td>...</td>\n",
              "      <td>253</td>\n",
              "      <td>255</td>\n",
              "      <td>249</td>\n",
              "      <td>218</td>\n",
              "      <td>184</td>\n",
              "      <td>178</td>\n",
              "      <td>172</td>\n",
              "      <td>134</td>\n",
              "      <td>121</td>\n",
              "      <td>95</td>\n",
              "    </tr>\n",
              "    <tr>\n",
              "      <th>2</th>\n",
              "      <td>Imaginaria</td>\n",
              "      <td>12</td>\n",
              "      <td>10</td>\n",
              "      <td>12</td>\n",
              "      <td>11</td>\n",
              "      <td>10</td>\n",
              "      <td>11</td>\n",
              "      <td>11</td>\n",
              "      <td>11</td>\n",
              "      <td>10</td>\n",
              "      <td>...</td>\n",
              "      <td>142</td>\n",
              "      <td>149</td>\n",
              "      <td>148</td>\n",
              "      <td>149</td>\n",
              "      <td>167</td>\n",
              "      <td>196</td>\n",
              "      <td>203</td>\n",
              "      <td>211</td>\n",
              "      <td>222</td>\n",
              "      <td>241</td>\n",
              "    </tr>\n",
              "    <tr>\n",
              "      <th>3</th>\n",
              "      <td>Pseudoland</td>\n",
              "      <td>410</td>\n",
              "      <td>368</td>\n",
              "      <td>337</td>\n",
              "      <td>296</td>\n",
              "      <td>273</td>\n",
              "      <td>256</td>\n",
              "      <td>256</td>\n",
              "      <td>292</td>\n",
              "      <td>294</td>\n",
              "      <td>...</td>\n",
              "      <td>179</td>\n",
              "      <td>186</td>\n",
              "      <td>195</td>\n",
              "      <td>182</td>\n",
              "      <td>194</td>\n",
              "      <td>198</td>\n",
              "      <td>172</td>\n",
              "      <td>167</td>\n",
              "      <td>150</td>\n",
              "      <td>131</td>\n",
              "    </tr>\n",
              "    <tr>\n",
              "      <th>4</th>\n",
              "      <td>Mythshire</td>\n",
              "      <td>174</td>\n",
              "      <td>170</td>\n",
              "      <td>204</td>\n",
              "      <td>188</td>\n",
              "      <td>199</td>\n",
              "      <td>228</td>\n",
              "      <td>211</td>\n",
              "      <td>213</td>\n",
              "      <td>232</td>\n",
              "      <td>...</td>\n",
              "      <td>421</td>\n",
              "      <td>462</td>\n",
              "      <td>495</td>\n",
              "      <td>513</td>\n",
              "      <td>487</td>\n",
              "      <td>535</td>\n",
              "      <td>549</td>\n",
              "      <td>502</td>\n",
              "      <td>482</td>\n",
              "      <td>485</td>\n",
              "    </tr>\n",
              "  </tbody>\n",
              "</table>\n",
              "<p>5 rows × 52 columns</p>\n",
              "</div>\n",
              "    <div class=\"colab-df-buttons\">\n",
              "\n",
              "  <div class=\"colab-df-container\">\n",
              "    <button class=\"colab-df-convert\" onclick=\"convertToInteractive('df-13e699ab-946a-4684-83ee-196739ef83e6')\"\n",
              "            title=\"Convert this dataframe to an interactive table.\"\n",
              "            style=\"display:none;\">\n",
              "\n",
              "  <svg xmlns=\"http://www.w3.org/2000/svg\" height=\"24px\" viewBox=\"0 -960 960 960\">\n",
              "    <path d=\"M120-120v-720h720v720H120Zm60-500h600v-160H180v160Zm220 220h160v-160H400v160Zm0 220h160v-160H400v160ZM180-400h160v-160H180v160Zm440 0h160v-160H620v160ZM180-180h160v-160H180v160Zm440 0h160v-160H620v160Z\"/>\n",
              "  </svg>\n",
              "    </button>\n",
              "\n",
              "  <style>\n",
              "    .colab-df-container {\n",
              "      display:flex;\n",
              "      gap: 12px;\n",
              "    }\n",
              "\n",
              "    .colab-df-convert {\n",
              "      background-color: #E8F0FE;\n",
              "      border: none;\n",
              "      border-radius: 50%;\n",
              "      cursor: pointer;\n",
              "      display: none;\n",
              "      fill: #1967D2;\n",
              "      height: 32px;\n",
              "      padding: 0 0 0 0;\n",
              "      width: 32px;\n",
              "    }\n",
              "\n",
              "    .colab-df-convert:hover {\n",
              "      background-color: #E2EBFA;\n",
              "      box-shadow: 0px 1px 2px rgba(60, 64, 67, 0.3), 0px 1px 3px 1px rgba(60, 64, 67, 0.15);\n",
              "      fill: #174EA6;\n",
              "    }\n",
              "\n",
              "    .colab-df-buttons div {\n",
              "      margin-bottom: 4px;\n",
              "    }\n",
              "\n",
              "    [theme=dark] .colab-df-convert {\n",
              "      background-color: #3B4455;\n",
              "      fill: #D2E3FC;\n",
              "    }\n",
              "\n",
              "    [theme=dark] .colab-df-convert:hover {\n",
              "      background-color: #434B5C;\n",
              "      box-shadow: 0px 1px 3px 1px rgba(0, 0, 0, 0.15);\n",
              "      filter: drop-shadow(0px 1px 2px rgba(0, 0, 0, 0.3));\n",
              "      fill: #FFFFFF;\n",
              "    }\n",
              "  </style>\n",
              "\n",
              "    <script>\n",
              "      const buttonEl =\n",
              "        document.querySelector('#df-13e699ab-946a-4684-83ee-196739ef83e6 button.colab-df-convert');\n",
              "      buttonEl.style.display =\n",
              "        google.colab.kernel.accessAllowed ? 'block' : 'none';\n",
              "\n",
              "      async function convertToInteractive(key) {\n",
              "        const element = document.querySelector('#df-13e699ab-946a-4684-83ee-196739ef83e6');\n",
              "        const dataTable =\n",
              "          await google.colab.kernel.invokeFunction('convertToInteractive',\n",
              "                                                    [key], {});\n",
              "        if (!dataTable) return;\n",
              "\n",
              "        const docLinkHtml = 'Like what you see? Visit the ' +\n",
              "          '<a target=\"_blank\" href=https://colab.research.google.com/notebooks/data_table.ipynb>data table notebook</a>'\n",
              "          + ' to learn more about interactive tables.';\n",
              "        element.innerHTML = '';\n",
              "        dataTable['output_type'] = 'display_data';\n",
              "        await google.colab.output.renderOutput(dataTable, element);\n",
              "        const docLink = document.createElement('div');\n",
              "        docLink.innerHTML = docLinkHtml;\n",
              "        element.appendChild(docLink);\n",
              "      }\n",
              "    </script>\n",
              "  </div>\n",
              "\n",
              "\n",
              "    <div id=\"df-0945b5cd-2871-48f9-bb71-eb613ecf05cc\">\n",
              "      <button class=\"colab-df-quickchart\" onclick=\"quickchart('df-0945b5cd-2871-48f9-bb71-eb613ecf05cc')\"\n",
              "                title=\"Suggest charts\"\n",
              "                style=\"display:none;\">\n",
              "\n",
              "<svg xmlns=\"http://www.w3.org/2000/svg\" height=\"24px\"viewBox=\"0 0 24 24\"\n",
              "     width=\"24px\">\n",
              "    <g>\n",
              "        <path d=\"M19 3H5c-1.1 0-2 .9-2 2v14c0 1.1.9 2 2 2h14c1.1 0 2-.9 2-2V5c0-1.1-.9-2-2-2zM9 17H7v-7h2v7zm4 0h-2V7h2v10zm4 0h-2v-4h2v4z\"/>\n",
              "    </g>\n",
              "</svg>\n",
              "      </button>\n",
              "\n",
              "<style>\n",
              "  .colab-df-quickchart {\n",
              "      --bg-color: #E8F0FE;\n",
              "      --fill-color: #1967D2;\n",
              "      --hover-bg-color: #E2EBFA;\n",
              "      --hover-fill-color: #174EA6;\n",
              "      --disabled-fill-color: #AAA;\n",
              "      --disabled-bg-color: #DDD;\n",
              "  }\n",
              "\n",
              "  [theme=dark] .colab-df-quickchart {\n",
              "      --bg-color: #3B4455;\n",
              "      --fill-color: #D2E3FC;\n",
              "      --hover-bg-color: #434B5C;\n",
              "      --hover-fill-color: #FFFFFF;\n",
              "      --disabled-bg-color: #3B4455;\n",
              "      --disabled-fill-color: #666;\n",
              "  }\n",
              "\n",
              "  .colab-df-quickchart {\n",
              "    background-color: var(--bg-color);\n",
              "    border: none;\n",
              "    border-radius: 50%;\n",
              "    cursor: pointer;\n",
              "    display: none;\n",
              "    fill: var(--fill-color);\n",
              "    height: 32px;\n",
              "    padding: 0;\n",
              "    width: 32px;\n",
              "  }\n",
              "\n",
              "  .colab-df-quickchart:hover {\n",
              "    background-color: var(--hover-bg-color);\n",
              "    box-shadow: 0 1px 2px rgba(60, 64, 67, 0.3), 0 1px 3px 1px rgba(60, 64, 67, 0.15);\n",
              "    fill: var(--button-hover-fill-color);\n",
              "  }\n",
              "\n",
              "  .colab-df-quickchart-complete:disabled,\n",
              "  .colab-df-quickchart-complete:disabled:hover {\n",
              "    background-color: var(--disabled-bg-color);\n",
              "    fill: var(--disabled-fill-color);\n",
              "    box-shadow: none;\n",
              "  }\n",
              "\n",
              "  .colab-df-spinner {\n",
              "    border: 2px solid var(--fill-color);\n",
              "    border-color: transparent;\n",
              "    border-bottom-color: var(--fill-color);\n",
              "    animation:\n",
              "      spin 1s steps(1) infinite;\n",
              "  }\n",
              "\n",
              "  @keyframes spin {\n",
              "    0% {\n",
              "      border-color: transparent;\n",
              "      border-bottom-color: var(--fill-color);\n",
              "      border-left-color: var(--fill-color);\n",
              "    }\n",
              "    20% {\n",
              "      border-color: transparent;\n",
              "      border-left-color: var(--fill-color);\n",
              "      border-top-color: var(--fill-color);\n",
              "    }\n",
              "    30% {\n",
              "      border-color: transparent;\n",
              "      border-left-color: var(--fill-color);\n",
              "      border-top-color: var(--fill-color);\n",
              "      border-right-color: var(--fill-color);\n",
              "    }\n",
              "    40% {\n",
              "      border-color: transparent;\n",
              "      border-right-color: var(--fill-color);\n",
              "      border-top-color: var(--fill-color);\n",
              "    }\n",
              "    60% {\n",
              "      border-color: transparent;\n",
              "      border-right-color: var(--fill-color);\n",
              "    }\n",
              "    80% {\n",
              "      border-color: transparent;\n",
              "      border-right-color: var(--fill-color);\n",
              "      border-bottom-color: var(--fill-color);\n",
              "    }\n",
              "    90% {\n",
              "      border-color: transparent;\n",
              "      border-bottom-color: var(--fill-color);\n",
              "    }\n",
              "  }\n",
              "</style>\n",
              "\n",
              "      <script>\n",
              "        async function quickchart(key) {\n",
              "          const quickchartButtonEl =\n",
              "            document.querySelector('#' + key + ' button');\n",
              "          quickchartButtonEl.disabled = true;  // To prevent multiple clicks.\n",
              "          quickchartButtonEl.classList.add('colab-df-spinner');\n",
              "          try {\n",
              "            const charts = await google.colab.kernel.invokeFunction(\n",
              "                'suggestCharts', [key], {});\n",
              "          } catch (error) {\n",
              "            console.error('Error during call to suggestCharts:', error);\n",
              "          }\n",
              "          quickchartButtonEl.classList.remove('colab-df-spinner');\n",
              "          quickchartButtonEl.classList.add('colab-df-quickchart-complete');\n",
              "        }\n",
              "        (() => {\n",
              "          let quickchartButtonEl =\n",
              "            document.querySelector('#df-0945b5cd-2871-48f9-bb71-eb613ecf05cc button');\n",
              "          quickchartButtonEl.style.display =\n",
              "            google.colab.kernel.accessAllowed ? 'block' : 'none';\n",
              "        })();\n",
              "      </script>\n",
              "    </div>\n",
              "\n",
              "    </div>\n",
              "  </div>\n"
            ],
            "application/vnd.google.colaboratory.intrinsic+json": {
              "type": "dataframe",
              "variable_name": "df"
            }
          },
          "metadata": {},
          "execution_count": 4
        }
      ]
    },
    {
      "cell_type": "markdown",
      "source": [
        "This command shows us the first 5 rows of the table, helping us check that the data imported correctly. Notice that the data is in *wide format*: each year is a separate column, each country a separate row.\n",
        "For analysis and plotting, it's usually easier to work with long (or tidy) format, where each row is a single observation:\n",
        "*   one column for the country\n",
        "*   one column for the year\n",
        "*   one column for the production value\n",
        "\n",
        "We can reshape the data using the `melt` function:"
      ],
      "metadata": {
        "id": "Ewbcf5QMEyap"
      }
    },
    {
      "cell_type": "code",
      "source": [
        "df_long = df.melt(id_vars=\"Country\", var_name=\"Year\", value_name=\"Production\")\n",
        "df_long.head()"
      ],
      "metadata": {
        "colab": {
          "base_uri": "https://localhost:8080/",
          "height": 206
        },
        "id": "lDBbuRAnFLCw",
        "outputId": "b6eea384-9d33-44cd-b707-58b6b40193b7"
      },
      "execution_count": 6,
      "outputs": [
        {
          "output_type": "execute_result",
          "data": {
            "text/plain": [
              "      Country  Year  Production\n",
              "0    Zentopia  1970          13\n",
              "1    Fictonia  1970          75\n",
              "2  Imaginaria  1970          12\n",
              "3  Pseudoland  1970         410\n",
              "4   Mythshire  1970         174"
            ],
            "text/html": [
              "\n",
              "  <div id=\"df-4ec08ec4-0414-4db9-85bf-90ea651be423\" class=\"colab-df-container\">\n",
              "    <div>\n",
              "<style scoped>\n",
              "    .dataframe tbody tr th:only-of-type {\n",
              "        vertical-align: middle;\n",
              "    }\n",
              "\n",
              "    .dataframe tbody tr th {\n",
              "        vertical-align: top;\n",
              "    }\n",
              "\n",
              "    .dataframe thead th {\n",
              "        text-align: right;\n",
              "    }\n",
              "</style>\n",
              "<table border=\"1\" class=\"dataframe\">\n",
              "  <thead>\n",
              "    <tr style=\"text-align: right;\">\n",
              "      <th></th>\n",
              "      <th>Country</th>\n",
              "      <th>Year</th>\n",
              "      <th>Production</th>\n",
              "    </tr>\n",
              "  </thead>\n",
              "  <tbody>\n",
              "    <tr>\n",
              "      <th>0</th>\n",
              "      <td>Zentopia</td>\n",
              "      <td>1970</td>\n",
              "      <td>13</td>\n",
              "    </tr>\n",
              "    <tr>\n",
              "      <th>1</th>\n",
              "      <td>Fictonia</td>\n",
              "      <td>1970</td>\n",
              "      <td>75</td>\n",
              "    </tr>\n",
              "    <tr>\n",
              "      <th>2</th>\n",
              "      <td>Imaginaria</td>\n",
              "      <td>1970</td>\n",
              "      <td>12</td>\n",
              "    </tr>\n",
              "    <tr>\n",
              "      <th>3</th>\n",
              "      <td>Pseudoland</td>\n",
              "      <td>1970</td>\n",
              "      <td>410</td>\n",
              "    </tr>\n",
              "    <tr>\n",
              "      <th>4</th>\n",
              "      <td>Mythshire</td>\n",
              "      <td>1970</td>\n",
              "      <td>174</td>\n",
              "    </tr>\n",
              "  </tbody>\n",
              "</table>\n",
              "</div>\n",
              "    <div class=\"colab-df-buttons\">\n",
              "\n",
              "  <div class=\"colab-df-container\">\n",
              "    <button class=\"colab-df-convert\" onclick=\"convertToInteractive('df-4ec08ec4-0414-4db9-85bf-90ea651be423')\"\n",
              "            title=\"Convert this dataframe to an interactive table.\"\n",
              "            style=\"display:none;\">\n",
              "\n",
              "  <svg xmlns=\"http://www.w3.org/2000/svg\" height=\"24px\" viewBox=\"0 -960 960 960\">\n",
              "    <path d=\"M120-120v-720h720v720H120Zm60-500h600v-160H180v160Zm220 220h160v-160H400v160Zm0 220h160v-160H400v160ZM180-400h160v-160H180v160Zm440 0h160v-160H620v160ZM180-180h160v-160H180v160Zm440 0h160v-160H620v160Z\"/>\n",
              "  </svg>\n",
              "    </button>\n",
              "\n",
              "  <style>\n",
              "    .colab-df-container {\n",
              "      display:flex;\n",
              "      gap: 12px;\n",
              "    }\n",
              "\n",
              "    .colab-df-convert {\n",
              "      background-color: #E8F0FE;\n",
              "      border: none;\n",
              "      border-radius: 50%;\n",
              "      cursor: pointer;\n",
              "      display: none;\n",
              "      fill: #1967D2;\n",
              "      height: 32px;\n",
              "      padding: 0 0 0 0;\n",
              "      width: 32px;\n",
              "    }\n",
              "\n",
              "    .colab-df-convert:hover {\n",
              "      background-color: #E2EBFA;\n",
              "      box-shadow: 0px 1px 2px rgba(60, 64, 67, 0.3), 0px 1px 3px 1px rgba(60, 64, 67, 0.15);\n",
              "      fill: #174EA6;\n",
              "    }\n",
              "\n",
              "    .colab-df-buttons div {\n",
              "      margin-bottom: 4px;\n",
              "    }\n",
              "\n",
              "    [theme=dark] .colab-df-convert {\n",
              "      background-color: #3B4455;\n",
              "      fill: #D2E3FC;\n",
              "    }\n",
              "\n",
              "    [theme=dark] .colab-df-convert:hover {\n",
              "      background-color: #434B5C;\n",
              "      box-shadow: 0px 1px 3px 1px rgba(0, 0, 0, 0.15);\n",
              "      filter: drop-shadow(0px 1px 2px rgba(0, 0, 0, 0.3));\n",
              "      fill: #FFFFFF;\n",
              "    }\n",
              "  </style>\n",
              "\n",
              "    <script>\n",
              "      const buttonEl =\n",
              "        document.querySelector('#df-4ec08ec4-0414-4db9-85bf-90ea651be423 button.colab-df-convert');\n",
              "      buttonEl.style.display =\n",
              "        google.colab.kernel.accessAllowed ? 'block' : 'none';\n",
              "\n",
              "      async function convertToInteractive(key) {\n",
              "        const element = document.querySelector('#df-4ec08ec4-0414-4db9-85bf-90ea651be423');\n",
              "        const dataTable =\n",
              "          await google.colab.kernel.invokeFunction('convertToInteractive',\n",
              "                                                    [key], {});\n",
              "        if (!dataTable) return;\n",
              "\n",
              "        const docLinkHtml = 'Like what you see? Visit the ' +\n",
              "          '<a target=\"_blank\" href=https://colab.research.google.com/notebooks/data_table.ipynb>data table notebook</a>'\n",
              "          + ' to learn more about interactive tables.';\n",
              "        element.innerHTML = '';\n",
              "        dataTable['output_type'] = 'display_data';\n",
              "        await google.colab.output.renderOutput(dataTable, element);\n",
              "        const docLink = document.createElement('div');\n",
              "        docLink.innerHTML = docLinkHtml;\n",
              "        element.appendChild(docLink);\n",
              "      }\n",
              "    </script>\n",
              "  </div>\n",
              "\n",
              "\n",
              "    <div id=\"df-b46fa452-bb50-4c8a-ae92-264583136569\">\n",
              "      <button class=\"colab-df-quickchart\" onclick=\"quickchart('df-b46fa452-bb50-4c8a-ae92-264583136569')\"\n",
              "                title=\"Suggest charts\"\n",
              "                style=\"display:none;\">\n",
              "\n",
              "<svg xmlns=\"http://www.w3.org/2000/svg\" height=\"24px\"viewBox=\"0 0 24 24\"\n",
              "     width=\"24px\">\n",
              "    <g>\n",
              "        <path d=\"M19 3H5c-1.1 0-2 .9-2 2v14c0 1.1.9 2 2 2h14c1.1 0 2-.9 2-2V5c0-1.1-.9-2-2-2zM9 17H7v-7h2v7zm4 0h-2V7h2v10zm4 0h-2v-4h2v4z\"/>\n",
              "    </g>\n",
              "</svg>\n",
              "      </button>\n",
              "\n",
              "<style>\n",
              "  .colab-df-quickchart {\n",
              "      --bg-color: #E8F0FE;\n",
              "      --fill-color: #1967D2;\n",
              "      --hover-bg-color: #E2EBFA;\n",
              "      --hover-fill-color: #174EA6;\n",
              "      --disabled-fill-color: #AAA;\n",
              "      --disabled-bg-color: #DDD;\n",
              "  }\n",
              "\n",
              "  [theme=dark] .colab-df-quickchart {\n",
              "      --bg-color: #3B4455;\n",
              "      --fill-color: #D2E3FC;\n",
              "      --hover-bg-color: #434B5C;\n",
              "      --hover-fill-color: #FFFFFF;\n",
              "      --disabled-bg-color: #3B4455;\n",
              "      --disabled-fill-color: #666;\n",
              "  }\n",
              "\n",
              "  .colab-df-quickchart {\n",
              "    background-color: var(--bg-color);\n",
              "    border: none;\n",
              "    border-radius: 50%;\n",
              "    cursor: pointer;\n",
              "    display: none;\n",
              "    fill: var(--fill-color);\n",
              "    height: 32px;\n",
              "    padding: 0;\n",
              "    width: 32px;\n",
              "  }\n",
              "\n",
              "  .colab-df-quickchart:hover {\n",
              "    background-color: var(--hover-bg-color);\n",
              "    box-shadow: 0 1px 2px rgba(60, 64, 67, 0.3), 0 1px 3px 1px rgba(60, 64, 67, 0.15);\n",
              "    fill: var(--button-hover-fill-color);\n",
              "  }\n",
              "\n",
              "  .colab-df-quickchart-complete:disabled,\n",
              "  .colab-df-quickchart-complete:disabled:hover {\n",
              "    background-color: var(--disabled-bg-color);\n",
              "    fill: var(--disabled-fill-color);\n",
              "    box-shadow: none;\n",
              "  }\n",
              "\n",
              "  .colab-df-spinner {\n",
              "    border: 2px solid var(--fill-color);\n",
              "    border-color: transparent;\n",
              "    border-bottom-color: var(--fill-color);\n",
              "    animation:\n",
              "      spin 1s steps(1) infinite;\n",
              "  }\n",
              "\n",
              "  @keyframes spin {\n",
              "    0% {\n",
              "      border-color: transparent;\n",
              "      border-bottom-color: var(--fill-color);\n",
              "      border-left-color: var(--fill-color);\n",
              "    }\n",
              "    20% {\n",
              "      border-color: transparent;\n",
              "      border-left-color: var(--fill-color);\n",
              "      border-top-color: var(--fill-color);\n",
              "    }\n",
              "    30% {\n",
              "      border-color: transparent;\n",
              "      border-left-color: var(--fill-color);\n",
              "      border-top-color: var(--fill-color);\n",
              "      border-right-color: var(--fill-color);\n",
              "    }\n",
              "    40% {\n",
              "      border-color: transparent;\n",
              "      border-right-color: var(--fill-color);\n",
              "      border-top-color: var(--fill-color);\n",
              "    }\n",
              "    60% {\n",
              "      border-color: transparent;\n",
              "      border-right-color: var(--fill-color);\n",
              "    }\n",
              "    80% {\n",
              "      border-color: transparent;\n",
              "      border-right-color: var(--fill-color);\n",
              "      border-bottom-color: var(--fill-color);\n",
              "    }\n",
              "    90% {\n",
              "      border-color: transparent;\n",
              "      border-bottom-color: var(--fill-color);\n",
              "    }\n",
              "  }\n",
              "</style>\n",
              "\n",
              "      <script>\n",
              "        async function quickchart(key) {\n",
              "          const quickchartButtonEl =\n",
              "            document.querySelector('#' + key + ' button');\n",
              "          quickchartButtonEl.disabled = true;  // To prevent multiple clicks.\n",
              "          quickchartButtonEl.classList.add('colab-df-spinner');\n",
              "          try {\n",
              "            const charts = await google.colab.kernel.invokeFunction(\n",
              "                'suggestCharts', [key], {});\n",
              "          } catch (error) {\n",
              "            console.error('Error during call to suggestCharts:', error);\n",
              "          }\n",
              "          quickchartButtonEl.classList.remove('colab-df-spinner');\n",
              "          quickchartButtonEl.classList.add('colab-df-quickchart-complete');\n",
              "        }\n",
              "        (() => {\n",
              "          let quickchartButtonEl =\n",
              "            document.querySelector('#df-b46fa452-bb50-4c8a-ae92-264583136569 button');\n",
              "          quickchartButtonEl.style.display =\n",
              "            google.colab.kernel.accessAllowed ? 'block' : 'none';\n",
              "        })();\n",
              "      </script>\n",
              "    </div>\n",
              "\n",
              "    </div>\n",
              "  </div>\n"
            ],
            "application/vnd.google.colaboratory.intrinsic+json": {
              "type": "dataframe",
              "variable_name": "df_long",
              "summary": "{\n  \"name\": \"df_long\",\n  \"rows\": 510,\n  \"fields\": [\n    {\n      \"column\": \"Country\",\n      \"properties\": {\n        \"dtype\": \"category\",\n        \"num_unique_values\": 10,\n        \"samples\": [\n          \"Chimeria\",\n          \"Fictonia\",\n          \"Pretendistan\"\n        ],\n        \"semantic_type\": \"\",\n        \"description\": \"\"\n      }\n    },\n    {\n      \"column\": \"Year\",\n      \"properties\": {\n        \"dtype\": \"object\",\n        \"num_unique_values\": 51,\n        \"samples\": [\n          \"2013\",\n          \"2010\",\n          \"2016\"\n        ],\n        \"semantic_type\": \"\",\n        \"description\": \"\"\n      }\n    },\n    {\n      \"column\": \"Production\",\n      \"properties\": {\n        \"dtype\": \"number\",\n        \"std\": 235,\n        \"min\": 0,\n        \"max\": 1074,\n        \"num_unique_values\": 345,\n        \"samples\": [\n          126,\n          381,\n          110\n        ],\n        \"semantic_type\": \"\",\n        \"description\": \"\"\n      }\n    }\n  ]\n}"
            }
          },
          "metadata": {},
          "execution_count": 6
        }
      ]
    },
    {
      "cell_type": "markdown",
      "source": [
        "Now the data is tidy, and each row corresponds to *Country-Year-Production*."
      ],
      "metadata": {
        "id": "DwY6fty3Fge3"
      }
    },
    {
      "cell_type": "markdown",
      "source": [
        "# Cleaning the data"
      ],
      "metadata": {
        "id": "B4y1JH-JhYzE"
      }
    },
    {
      "cell_type": "markdown",
      "source": [
        "Before we analyze or plot, we should make sure the data is in the correct format:"
      ],
      "metadata": {
        "id": "us2qnlL6hcsk"
      }
    },
    {
      "cell_type": "code",
      "source": [
        "df_long[\"Year\"] = df_long[\"Year\"].astype(int)\n",
        "df_long[\"Production\"] = pd.to_numeric(df_long[\"Production\"], errors=\"coerce\")"
      ],
      "metadata": {
        "id": "ueU7aY9-FmY3"
      },
      "execution_count": 12,
      "outputs": []
    },
    {
      "cell_type": "markdown",
      "source": [
        "*   `astype(int)` makes sure that the year is stored as an integer\n",
        "*   `pd.to_numeric(..., errors=\"coerce\")` ensures production is treated as a number. If anything can't be converted, it becomes `NaN` (missing data).\n",
        "\n"
      ],
      "metadata": {
        "id": "51kCDzXshhyg"
      }
    },
    {
      "cell_type": "markdown",
      "source": [
        "# Plotting country production"
      ],
      "metadata": {
        "id": "eev9VmwQh1Rq"
      }
    },
    {
      "cell_type": "markdown",
      "source": [
        "Now that our dataset is in tidy format, we can start exploring it with plots.\n",
        "The following code will make a line plot for each country in our dataset:"
      ],
      "metadata": {
        "id": "I9xNvwj-iJnu"
      }
    },
    {
      "cell_type": "code",
      "source": [
        "for country, subset in df_long.groupby(\"Country\"):\n",
        "    plt.plot(subset[\"Year\"], subset[\"Production\"], label=country)\n",
        "plt.legend()\n",
        "plt.show()"
      ],
      "metadata": {
        "colab": {
          "base_uri": "https://localhost:8080/",
          "height": 430
        },
        "collapsed": true,
        "id": "RM3apTRQFuJF",
        "outputId": "feb982d5-4fb2-4793-da3a-6cf55191d4ba"
      },
      "execution_count": 13,
      "outputs": [
        {
          "output_type": "display_data",
          "data": {
            "text/plain": [
              "<Figure size 640x480 with 1 Axes>"
            ],
            "image/png": "[encoded data removed]"
          },
          "metadata": {}
        }
      ]
    },
    {
      "cell_type": "markdown",
      "source": [
        "What's happening here?\n",
        "*   `df_long.groupby(\"Country\")` splits the data into smaller tables, one for each country.\n",
        "*   The `for` loop goes through each of those smaller tables, saving the country name in `country` and the corresponding rows in `subset`.\n",
        "*   Inside the loop, `plt.plot(...)` draws a line of production vs. year for that country. The order of arguments is important: the `subset[\"Year\"]` column is shown on the X-axis, and the `subset[\"Production\"]` column shown on the Y-axis.\n",
        "*   `plt.legend()` adds a key showing which line belong to which country.\n",
        "*   Finally, `plt.show()` displays the figure.\n",
        "\n",
        "This is your first look at a loop: instead of writing out one plot command per country, the loop automates it, repeating the same action for each group in the data.\n"
      ],
      "metadata": {
        "id": "GhNiHaM4iWVY"
      }
    },
    {
      "cell_type": "markdown",
      "source": [
        "# Find the top 5 producers in a chosen year"
      ],
      "metadata": {
        "id": "TMNqGorJnnwo"
      }
    },
    {
      "cell_type": "markdown",
      "source": [
        "Let's identify the top five countries producing unobtanium for a specific year.\n",
        "\n",
        "In `pandas`, we can chain operations together by connecting them with dots (`.`). Each step produces an output, and that output becomes the input for the next step."
      ],
      "metadata": {
        "id": "Wn5SFzV9n94I"
      }
    },
    {
      "cell_type": "code",
      "source": [
        "year_choice = 2005 # change as you like\n",
        "\n",
        "top5 = (df_long.query(\"Year == @year_choice\")\n",
        "        .nlargest(5, \"Production\")\n",
        "        [[\"Country\", \"Production\"]])\n",
        "\n",
        "print(top5)"
      ],
      "metadata": {
        "id": "NVU4vts9oDC9",
        "outputId": "48e07c3b-42a8-4057-8cae-1ecf538e77a0",
        "colab": {
          "base_uri": "https://localhost:8080/"
        }
      },
      "execution_count": 14,
      "outputs": [
        {
          "output_type": "stream",
          "name": "stdout",
          "text": [
            "          Country  Production\n",
            "359     Vaporland         944\n",
            "358      Chimeria         645\n",
            "355  Pretendistan         579\n",
            "354     Mythshire         354\n",
            "357     Illusoria         330\n"
          ]
        }
      ]
    },
    {
      "cell_type": "markdown",
      "source": [
        "What's happening here?\n",
        "*   First, we choose a year (`year_choice`). We will filter the dataset to keep only the rows for that year.\n",
        "*   `df.query(\"Year == @year_choice\")` filters the dataset to only rows from the chosen year. The part in quotation marks (`\"Year == @year_choice\"`) is called a string expression. The `@year_choice` part tells pandas to subtitute the value of the Python variable `year_choice`. Then, `\"Year == 2005\"` means \"keep only the rows where the `Year` column is equal to 2005\". The `==` is the \"equals\" operator in Python (A single `=` is used for assignment, so `==` checks equality).\n",
        "*   From that filtered table, `.nlargest(5,\"Production\")` selects the 5 rows with the highest value in the `Production` column. This gives us the top 5 producers in that year.  \n",
        "*   Finally, `[\"Country\", \"Production\"]` selects only the two columns we care about.\n",
        "* `print(top5)` writes out this table to the screen showing the top 5 producers for the chosen year.\n",
        "\n",
        "\n"
      ],
      "metadata": {
        "id": "hjuc_dqzolG3"
      }
    },
    {
      "cell_type": "markdown",
      "source": [
        "# Compute cumulative production (per country)"
      ],
      "metadata": {
        "id": "XxOQuOwBsCAA"
      }
    },
    {
      "cell_type": "markdown",
      "source": [
        "In order to fit a Hubbert model to the production data, we need to calculate the cumulative production (the total amount of production when added up between years). We can compute it by grouping by country and taking a running sum."
      ],
      "metadata": {
        "id": "8EW8t4w3sFe_"
      }
    },
    {
      "cell_type": "markdown",
      "source": [
        "First, we sort the data so that each country's years are in the right order:"
      ],
      "metadata": {
        "id": "DXHcqH3htGuD"
      }
    },
    {
      "cell_type": "code",
      "source": [
        "df_long = df_long.sort_values([\"Country\", \"Year\"])\n"
      ],
      "metadata": {
        "collapsed": true,
        "id": "Pj6mM7iZsV9j"
      },
      "execution_count": 17,
      "outputs": []
    },
    {
      "cell_type": "markdown",
      "source": [
        "Then we make a new column in the table:"
      ],
      "metadata": {
        "id": "nBydvkFwtPjy"
      }
    },
    {
      "cell_type": "code",
      "source": [
        "df_long[\"CumulativeProduction\"] = df_long.groupby(\"Country\")[\"Production\"].cumsum()"
      ],
      "metadata": {
        "id": "stJaDYHntRt6"
      },
      "execution_count": 18,
      "outputs": []
    },
    {
      "cell_type": "markdown",
      "source": [
        "What's happening here?\n",
        "*   `groupby(\"Country\")` tells Pandas to treat each country separately.\n",
        "*   `[\"Production\"]` selects the production values for each group.\n",
        "*   `.cumsum()` adds up production year by year, making a running total.\n",
        "\n",
        "So for each country, the cumulative column starts with the first year’s production, then adds the next year, then the next, and so on.\n",
        "\n",
        "Finally, we can check the result:"
      ],
      "metadata": {
        "id": "K0gziQB8tZEO"
      }
    },
    {
      "cell_type": "code",
      "source": [
        "df_long.head()"
      ],
      "metadata": {
        "id": "CGjs8IShtxdZ",
        "outputId": "36442405-464a-475f-fbfe-14b4d435598b",
        "colab": {
          "base_uri": "https://localhost:8080/",
          "height": 206
        }
      },
      "execution_count": 19,
      "outputs": [
        {
          "output_type": "execute_result",
          "data": {
            "text/plain": [
              "     Country  Year  Production  CumulativeProduction\n",
              "8   Chimeria  1970         291                   291\n",
              "18  Chimeria  1971         334                   625\n",
              "28  Chimeria  1972         354                   979\n",
              "38  Chimeria  1973         353                  1332\n",
              "48  Chimeria  1974         354                  1686"
            ],
            "text/html": [
              "\n",
              "  <div id=\"df-94e861ad-1ba3-494a-9435-2619b3f7a0ca\" class=\"colab-df-container\">\n",
              "    <div>\n",
              "<style scoped>\n",
              "    .dataframe tbody tr th:only-of-type {\n",
              "        vertical-align: middle;\n",
              "    }\n",
              "\n",
              "    .dataframe tbody tr th {\n",
              "        vertical-align: top;\n",
              "    }\n",
              "\n",
              "    .dataframe thead th {\n",
              "        text-align: right;\n",
              "    }\n",
              "</style>\n",
              "<table border=\"1\" class=\"dataframe\">\n",
              "  <thead>\n",
              "    <tr style=\"text-align: right;\">\n",
              "      <th></th>\n",
              "      <th>Country</th>\n",
              "      <th>Year</th>\n",
              "      <th>Production</th>\n",
              "      <th>CumulativeProduction</th>\n",
              "    </tr>\n",
              "  </thead>\n",
              "  <tbody>\n",
              "    <tr>\n",
              "      <th>8</th>\n",
              "      <td>Chimeria</td>\n",
              "      <td>1970</td>\n",
              "      <td>291</td>\n",
              "      <td>291</td>\n",
              "    </tr>\n",
              "    <tr>\n",
              "      <th>18</th>\n",
              "      <td>Chimeria</td>\n",
              "      <td>1971</td>\n",
              "      <td>334</td>\n",
              "      <td>625</td>\n",
              "    </tr>\n",
              "    <tr>\n",
              "      <th>28</th>\n",
              "      <td>Chimeria</td>\n",
              "      <td>1972</td>\n",
              "      <td>354</td>\n",
              "      <td>979</td>\n",
              "    </tr>\n",
              "    <tr>\n",
              "      <th>38</th>\n",
              "      <td>Chimeria</td>\n",
              "      <td>1973</td>\n",
              "      <td>353</td>\n",
              "      <td>1332</td>\n",
              "    </tr>\n",
              "    <tr>\n",
              "      <th>48</th>\n",
              "      <td>Chimeria</td>\n",
              "      <td>1974</td>\n",
              "      <td>354</td>\n",
              "      <td>1686</td>\n",
              "    </tr>\n",
              "  </tbody>\n",
              "</table>\n",
              "</div>\n",
              "    <div class=\"colab-df-buttons\">\n",
              "\n",
              "  <div class=\"colab-df-container\">\n",
              "    <button class=\"colab-df-convert\" onclick=\"convertToInteractive('df-94e861ad-1ba3-494a-9435-2619b3f7a0ca')\"\n",
              "            title=\"Convert this dataframe to an interactive table.\"\n",
              "            style=\"display:none;\">\n",
              "\n",
              "  <svg xmlns=\"http://www.w3.org/2000/svg\" height=\"24px\" viewBox=\"0 -960 960 960\">\n",
              "    <path d=\"M120-120v-720h720v720H120Zm60-500h600v-160H180v160Zm220 220h160v-160H400v160Zm0 220h160v-160H400v160ZM180-400h160v-160H180v160Zm440 0h160v-160H620v160ZM180-180h160v-160H180v160Zm440 0h160v-160H620v160Z\"/>\n",
              "  </svg>\n",
              "    </button>\n",
              "\n",
              "  <style>\n",
              "    .colab-df-container {\n",
              "      display:flex;\n",
              "      gap: 12px;\n",
              "    }\n",
              "\n",
              "    .colab-df-convert {\n",
              "      background-color: #E8F0FE;\n",
              "      border: none;\n",
              "      border-radius: 50%;\n",
              "      cursor: pointer;\n",
              "      display: none;\n",
              "      fill: #1967D2;\n",
              "      height: 32px;\n",
              "      padding: 0 0 0 0;\n",
              "      width: 32px;\n",
              "    }\n",
              "\n",
              "    .colab-df-convert:hover {\n",
              "      background-color: #E2EBFA;\n",
              "      box-shadow: 0px 1px 2px rgba(60, 64, 67, 0.3), 0px 1px 3px 1px rgba(60, 64, 67, 0.15);\n",
              "      fill: #174EA6;\n",
              "    }\n",
              "\n",
              "    .colab-df-buttons div {\n",
              "      margin-bottom: 4px;\n",
              "    }\n",
              "\n",
              "    [theme=dark] .colab-df-convert {\n",
              "      background-color: #3B4455;\n",
              "      fill: #D2E3FC;\n",
              "    }\n",
              "\n",
              "    [theme=dark] .colab-df-convert:hover {\n",
              "      background-color: #434B5C;\n",
              "      box-shadow: 0px 1px 3px 1px rgba(0, 0, 0, 0.15);\n",
              "      filter: drop-shadow(0px 1px 2px rgba(0, 0, 0, 0.3));\n",
              "      fill: #FFFFFF;\n",
              "    }\n",
              "  </style>\n",
              "\n",
              "    <script>\n",
              "      const buttonEl =\n",
              "        document.querySelector('#df-94e861ad-1ba3-494a-9435-2619b3f7a0ca button.colab-df-convert');\n",
              "      buttonEl.style.display =\n",
              "        google.colab.kernel.accessAllowed ? 'block' : 'none';\n",
              "\n",
              "      async function convertToInteractive(key) {\n",
              "        const element = document.querySelector('#df-94e861ad-1ba3-494a-9435-2619b3f7a0ca');\n",
              "        const dataTable =\n",
              "          await google.colab.kernel.invokeFunction('convertToInteractive',\n",
              "                                                    [key], {});\n",
              "        if (!dataTable) return;\n",
              "\n",
              "        const docLinkHtml = 'Like what you see? Visit the ' +\n",
              "          '<a target=\"_blank\" href=https://colab.research.google.com/notebooks/data_table.ipynb>data table notebook</a>'\n",
              "          + ' to learn more about interactive tables.';\n",
              "        element.innerHTML = '';\n",
              "        dataTable['output_type'] = 'display_data';\n",
              "        await google.colab.output.renderOutput(dataTable, element);\n",
              "        const docLink = document.createElement('div');\n",
              "        docLink.innerHTML = docLinkHtml;\n",
              "        element.appendChild(docLink);\n",
              "      }\n",
              "    </script>\n",
              "  </div>\n",
              "\n",
              "\n",
              "    <div id=\"df-9d65412f-0aa8-4c93-ba06-f3d4b403814c\">\n",
              "      <button class=\"colab-df-quickchart\" onclick=\"quickchart('df-9d65412f-0aa8-4c93-ba06-f3d4b403814c')\"\n",
              "                title=\"Suggest charts\"\n",
              "                style=\"display:none;\">\n",
              "\n",
              "<svg xmlns=\"http://www.w3.org/2000/svg\" height=\"24px\"viewBox=\"0 0 24 24\"\n",
              "     width=\"24px\">\n",
              "    <g>\n",
              "        <path d=\"M19 3H5c-1.1 0-2 .9-2 2v14c0 1.1.9 2 2 2h14c1.1 0 2-.9 2-2V5c0-1.1-.9-2-2-2zM9 17H7v-7h2v7zm4 0h-2V7h2v10zm4 0h-2v-4h2v4z\"/>\n",
              "    </g>\n",
              "</svg>\n",
              "      </button>\n",
              "\n",
              "<style>\n",
              "  .colab-df-quickchart {\n",
              "      --bg-color: #E8F0FE;\n",
              "      --fill-color: #1967D2;\n",
              "      --hover-bg-color: #E2EBFA;\n",
              "      --hover-fill-color: #174EA6;\n",
              "      --disabled-fill-color: #AAA;\n",
              "      --disabled-bg-color: #DDD;\n",
              "  }\n",
              "\n",
              "  [theme=dark] .colab-df-quickchart {\n",
              "      --bg-color: #3B4455;\n",
              "      --fill-color: #D2E3FC;\n",
              "      --hover-bg-color: #434B5C;\n",
              "      --hover-fill-color: #FFFFFF;\n",
              "      --disabled-bg-color: #3B4455;\n",
              "      --disabled-fill-color: #666;\n",
              "  }\n",
              "\n",
              "  .colab-df-quickchart {\n",
              "    background-color: var(--bg-color);\n",
              "    border: none;\n",
              "    border-radius: 50%;\n",
              "    cursor: pointer;\n",
              "    display: none;\n",
              "    fill: var(--fill-color);\n",
              "    height: 32px;\n",
              "    padding: 0;\n",
              "    width: 32px;\n",
              "  }\n",
              "\n",
              "  .colab-df-quickchart:hover {\n",
              "    background-color: var(--hover-bg-color);\n",
              "    box-shadow: 0 1px 2px rgba(60, 64, 67, 0.3), 0 1px 3px 1px rgba(60, 64, 67, 0.15);\n",
              "    fill: var(--button-hover-fill-color);\n",
              "  }\n",
              "\n",
              "  .colab-df-quickchart-complete:disabled,\n",
              "  .colab-df-quickchart-complete:disabled:hover {\n",
              "    background-color: var(--disabled-bg-color);\n",
              "    fill: var(--disabled-fill-color);\n",
              "    box-shadow: none;\n",
              "  }\n",
              "\n",
              "  .colab-df-spinner {\n",
              "    border: 2px solid var(--fill-color);\n",
              "    border-color: transparent;\n",
              "    border-bottom-color: var(--fill-color);\n",
              "    animation:\n",
              "      spin 1s steps(1) infinite;\n",
              "  }\n",
              "\n",
              "  @keyframes spin {\n",
              "    0% {\n",
              "      border-color: transparent;\n",
              "      border-bottom-color: var(--fill-color);\n",
              "      border-left-color: var(--fill-color);\n",
              "    }\n",
              "    20% {\n",
              "      border-color: transparent;\n",
              "      border-left-color: var(--fill-color);\n",
              "      border-top-color: var(--fill-color);\n",
              "    }\n",
              "    30% {\n",
              "      border-color: transparent;\n",
              "      border-left-color: var(--fill-color);\n",
              "      border-top-color: var(--fill-color);\n",
              "      border-right-color: var(--fill-color);\n",
              "    }\n",
              "    40% {\n",
              "      border-color: transparent;\n",
              "      border-right-color: var(--fill-color);\n",
              "      border-top-color: var(--fill-color);\n",
              "    }\n",
              "    60% {\n",
              "      border-color: transparent;\n",
              "      border-right-color: var(--fill-color);\n",
              "    }\n",
              "    80% {\n",
              "      border-color: transparent;\n",
              "      border-right-color: var(--fill-color);\n",
              "      border-bottom-color: var(--fill-color);\n",
              "    }\n",
              "    90% {\n",
              "      border-color: transparent;\n",
              "      border-bottom-color: var(--fill-color);\n",
              "    }\n",
              "  }\n",
              "</style>\n",
              "\n",
              "      <script>\n",
              "        async function quickchart(key) {\n",
              "          const quickchartButtonEl =\n",
              "            document.querySelector('#' + key + ' button');\n",
              "          quickchartButtonEl.disabled = true;  // To prevent multiple clicks.\n",
              "          quickchartButtonEl.classList.add('colab-df-spinner');\n",
              "          try {\n",
              "            const charts = await google.colab.kernel.invokeFunction(\n",
              "                'suggestCharts', [key], {});\n",
              "          } catch (error) {\n",
              "            console.error('Error during call to suggestCharts:', error);\n",
              "          }\n",
              "          quickchartButtonEl.classList.remove('colab-df-spinner');\n",
              "          quickchartButtonEl.classList.add('colab-df-quickchart-complete');\n",
              "        }\n",
              "        (() => {\n",
              "          let quickchartButtonEl =\n",
              "            document.querySelector('#df-9d65412f-0aa8-4c93-ba06-f3d4b403814c button');\n",
              "          quickchartButtonEl.style.display =\n",
              "            google.colab.kernel.accessAllowed ? 'block' : 'none';\n",
              "        })();\n",
              "      </script>\n",
              "    </div>\n",
              "\n",
              "    </div>\n",
              "  </div>\n"
            ],
            "application/vnd.google.colaboratory.intrinsic+json": {
              "type": "dataframe",
              "variable_name": "df_long",
              "summary": "{\n  \"name\": \"df_long\",\n  \"rows\": 510,\n  \"fields\": [\n    {\n      \"column\": \"Country\",\n      \"properties\": {\n        \"dtype\": \"category\",\n        \"num_unique_values\": 10,\n        \"samples\": [\n          \"Vaporland\",\n          \"Fakeburg\",\n          \"Mythshire\"\n        ],\n        \"semantic_type\": \"\",\n        \"description\": \"\"\n      }\n    },\n    {\n      \"column\": \"Year\",\n      \"properties\": {\n        \"dtype\": \"number\",\n        \"std\": 14,\n        \"min\": 1970,\n        \"max\": 2020,\n        \"num_unique_values\": 51,\n        \"samples\": [\n          2013,\n          2010,\n          2016\n        ],\n        \"semantic_type\": \"\",\n        \"description\": \"\"\n      }\n    },\n    {\n      \"column\": \"Production\",\n      \"properties\": {\n        \"dtype\": \"number\",\n        \"std\": 235,\n        \"min\": 0,\n        \"max\": 1074,\n        \"num_unique_values\": 345,\n        \"samples\": [\n          213,\n          468,\n          272\n        ],\n        \"semantic_type\": \"\",\n        \"description\": \"\"\n      }\n    },\n    {\n      \"column\": \"CumulativeProduction\",\n      \"properties\": {\n        \"dtype\": \"number\",\n        \"std\": 6833,\n        \"min\": 12,\n        \"max\": 28937,\n        \"num_unique_values\": 485,\n        \"samples\": [\n          13649,\n          9592,\n          18197\n        ],\n        \"semantic_type\": \"\",\n        \"description\": \"\"\n      }\n    }\n  ]\n}"
            }
          },
          "metadata": {},
          "execution_count": 19
        }
      ]
    },
    {
      "cell_type": "markdown",
      "source": [
        "This shows us the first five rows, and we can now see a new column called `CumulativeProduction`."
      ],
      "metadata": {
        "id": "aBJhv-_tt1Py"
      }
    },
    {
      "cell_type": "markdown",
      "source": [
        "We can also make a plot comparing cumulative vs. annual production for one country. Let's choose \"Zentopia\"."
      ],
      "metadata": {
        "id": "1N7CzLjcsltD"
      }
    },
    {
      "cell_type": "code",
      "source": [
        "country_choice = \"Zentopia\"  # change as needed\n",
        "sub = df_long[df_long[\"Country\"] == country_choice]"
      ],
      "metadata": {
        "id": "_TcYiN2Pu9VW"
      },
      "execution_count": null,
      "outputs": []
    },
    {
      "cell_type": "markdown",
      "source": [
        "This filters the dataframe so `sub` only contains data for the chosen country. The following code will make 1 row and 2 columns of plots, side-by-side, with Production data on the left and Cumulative Production data on the right."
      ],
      "metadata": {
        "id": "_ihvKPt9vBNm"
      }
    },
    {
      "cell_type": "code",
      "source": [
        "fig, ax = plt.subplots(1,2, figsize=(10,4), sharex=True)\n",
        "ax[0].plot(sub[\"Year\"], sub[\"Production\"])\n",
        "ax[0].set_title(f\"{country_choice} – Annual\")\n",
        "ax[0].set_ylabel(\"Production\"); ax[0].set_xlabel(\"Year\")\n",
        "\n",
        "ax[1].plot(sub[\"Year\"], sub[\"CumulativeProduction\"], color=\"tab:orange\")\n",
        "ax[1].set_title(f\"{country_choice} – Cumulative\")\n",
        "ax[1].set_xlabel(\"Year\")\n",
        "\n",
        "plt.tight_layout()\n",
        "plt.show()\n"
      ],
      "metadata": {
        "collapsed": true,
        "id": "i2cWrsucsqdH",
        "outputId": "c450d088-115c-4f4b-a0de-dac975c859d0",
        "colab": {
          "base_uri": "https://localhost:8080/",
          "height": 407
        }
      },
      "execution_count": 16,
      "outputs": [
        {
          "output_type": "display_data",
          "data": {
            "text/plain": [
              "<Figure size 1000x400 with 2 Axes>"
            ],
            "image/png": "[encoded data removed]"
          },
          "metadata": {}
        }
      ]
    },
    {
      "cell_type": "markdown",
      "source": [
        "What's happening here?\n",
        "*   plt.subplots(1,2,...) means: make 1 row and 2 columns of plots. We also set the figure size (`figsize`).\n",
        "*   This gives us two axes objects (`ax[0]` and `ax[1]`) stored inside a Python list-like structure.\n",
        "*   That's why we use indexing (`ax[0]` for the first plot, `ax[1]` for the second).\n",
        "*   On `ax[0]`, we plot annual production. We also set a figure title (`{country_choice}` substitutes the value of the `country_choice` variable set above into the string) , and x- and y-labels.\n",
        "*   On `ax[1]`, we plot cumulative production, set a title, and an x-axis label.\n",
        "*   `plt.tight_layout()` makes sure the two plots don't overlap and are displayed neatly."
      ],
      "metadata": {
        "id": "XxAngarNvbKX"
      }
    },
    {
      "cell_type": "markdown",
      "source": [
        "# Define a Hubbert (logistic) model and fit it to the data"
      ],
      "metadata": {
        "id": "EA5s7hi9xLgB"
      }
    },
    {
      "cell_type": "markdown",
      "source": [
        "We will fit a logistic to cumulative production, then compare the derivative (annual) to the data."
      ],
      "metadata": {
        "id": "TmqcGehSxRH7"
      }
    }
  ]
}